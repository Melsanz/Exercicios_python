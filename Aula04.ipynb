{
  "nbformat": 4,
  "nbformat_minor": 0,
  "metadata": {
    "colab": {
      "provenance": [],
      "include_colab_link": true
    },
    "kernelspec": {
      "name": "python3",
      "display_name": "Python 3"
    },
    "language_info": {
      "name": "python"
    }
  },
  "cells": [
    {
      "cell_type": "markdown",
      "metadata": {
        "id": "view-in-github",
        "colab_type": "text"
      },
      "source": [
        "<a href=\"https://colab.research.google.com/github/Melsanz/Exercicios_python/blob/mestre/Aula04.ipynb\" target=\"_parent\"><img src=\"https://colab.research.google.com/assets/colab-badge.svg\" alt=\"Open In Colab\"/></a>"
      ]
    },
    {
      "cell_type": "markdown",
      "source": [
        "\n",
        " **Tipos de Dados**"
      ],
      "metadata": {
        "id": "KGyi3q3faT8Z"
      }
    },
    {
      "cell_type": "markdown",
      "source": [
        "## Números"
      ],
      "metadata": {
        "id": "IDuNod8Brzlu"
      }
    },
    {
      "cell_type": "markdown",
      "source": [
        "### `int`"
      ],
      "metadata": {
        "id": "cOXVc0_2r2av"
      }
    },
    {
      "cell_type": "code",
      "execution_count": null,
      "metadata": {
        "colab": {
          "base_uri": "https://localhost:8080/"
        },
        "id": "KG10DKJtaK6v",
        "outputId": "c7b6000f-bd62-401f-c43a-ab416f77526d"
      },
      "outputs": [
        {
          "output_type": "stream",
          "name": "stdout",
          "text": [
            "-546\n",
            "0\n",
            "7809\n"
          ]
        }
      ],
      "source": [
        "a = -546\n",
        "print(a)\n",
        "b = 0\n",
        "print(b)\n",
        "c = 7809\n",
        "print(c)"
      ]
    },
    {
      "cell_type": "markdown",
      "source": [
        "### `float`"
      ],
      "metadata": {
        "id": "MVAhyGQ3r3y0"
      }
    },
    {
      "cell_type": "code",
      "source": [
        "d = -89.7\n",
        "print(d)\n",
        "e = -1.6\n",
        "print(e)\n",
        "f = 23.9\n",
        "print(f)\n",
        "g = 3402.10\n",
        "print(g)"
      ],
      "metadata": {
        "colab": {
          "base_uri": "https://localhost:8080/"
        },
        "id": "v-gomzzEr92M",
        "outputId": "8025ada1-53e4-4ab5-def5-a7c264b7eb97"
      },
      "execution_count": null,
      "outputs": [
        {
          "output_type": "stream",
          "name": "stdout",
          "text": [
            "-89.7\n",
            "-1.6\n",
            "23.9\n",
            "3402.1\n"
          ]
        }
      ]
    },
    {
      "cell_type": "markdown",
      "source": [
        "### Transformações"
      ],
      "metadata": {
        "id": "LV_WTJX1r_Wx"
      }
    },
    {
      "cell_type": "code",
      "source": [
        "num_int = 55\n",
        "print(num_int)\n",
        "num_float = float(num_int)\n",
        "print(num_float)"
      ],
      "metadata": {
        "colab": {
          "base_uri": "https://localhost:8080/"
        },
        "id": "mmLkwvSqsBnL",
        "outputId": "409dac71-997d-4339-ede9-9401501bc2ab"
      },
      "execution_count": 1,
      "outputs": [
        {
          "output_type": "stream",
          "name": "stdout",
          "text": [
            "55\n",
            "55.0\n"
          ]
        }
      ]
    },
    {
      "cell_type": "code",
      "source": [
        "num_float = 55.5\n",
        "print(num_float)\n",
        "num_int = int(num_float)\n",
        "print(num_int)"
      ],
      "metadata": {
        "colab": {
          "base_uri": "https://localhost:8080/"
        },
        "id": "HdhoLL-os5DO",
        "outputId": "96f96aa4-7e6b-41d1-cb05-0337af714ac7"
      },
      "execution_count": 3,
      "outputs": [
        {
          "output_type": "stream",
          "name": "stdout",
          "text": [
            "55.5\n",
            "55\n"
          ]
        }
      ]
    },
    {
      "cell_type": "code",
      "source": [
        "num_float = 2018.04\n",
        "print(num_float)\n",
        "num_int = int(num_float)\n",
        "print(num_int)"
      ],
      "metadata": {
        "colab": {
          "base_uri": "https://localhost:8080/"
        },
        "id": "-stNp4m2y8uZ",
        "outputId": "5df21945-699d-4223-f06c-05e23b73f4d8"
      },
      "execution_count": 4,
      "outputs": [
        {
          "output_type": "stream",
          "name": "stdout",
          "text": [
            "2018.04\n",
            "2018\n"
          ]
        }
      ]
    },
    {
      "cell_type": "markdown",
      "source": [
        "## String"
      ],
      "metadata": {
        "id": "6Q4yKHqKt7gC"
      }
    },
    {
      "cell_type": "code",
      "source": [
        "frase = \"Oi, tudo bem?\"\n",
        "print(frase)"
      ],
      "metadata": {
        "id": "zbNHt0_NvJXq",
        "outputId": "bfc4835b-b2b7-4187-fcb2-ce5f44b6488a",
        "colab": {
          "base_uri": "https://localhost:8080/"
        }
      },
      "execution_count": null,
      "outputs": [
        {
          "output_type": "stream",
          "name": "stdout",
          "text": [
            "Oi, tudo bem?\n"
          ]
        }
      ]
    },
    {
      "cell_type": "code",
      "source": [
        "frase = \"Sou uma string\"\n",
        "print(frase)"
      ],
      "metadata": {
        "id": "0Tazp7XlvKRS",
        "outputId": "d4357c02-5f4a-409b-cf82-0657be5e8f89",
        "colab": {
          "base_uri": "https://localhost:8080/"
        }
      },
      "execution_count": null,
      "outputs": [
        {
          "output_type": "stream",
          "name": "stdout",
          "text": [
            "Sou uma string\n"
          ]
        }
      ]
    }
  ]
}