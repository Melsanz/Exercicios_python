{
  "nbformat": 4,
  "nbformat_minor": 0,
  "metadata": {
    "colab": {
      "provenance": [],
      "include_colab_link": true
    },
    "kernelspec": {
      "name": "python3",
      "display_name": "Python 3"
    },
    "language_info": {
      "name": "python"
    }
  },
  "cells": [
    {
      "cell_type": "markdown",
      "metadata": {
        "id": "view-in-github",
        "colab_type": "text"
      },
      "source": [
        "<a href=\"https://colab.research.google.com/github/Melsanz/Exercicios_python/blob/mestre/Aula07.ipynb\" target=\"_parent\"><img src=\"https://colab.research.google.com/assets/colab-badge.svg\" alt=\"Open In Colab\"/></a>"
      ]
    },
    {
      "cell_type": "markdown",
      "source": [
        "# Aula 07 - Função 1"
      ],
      "metadata": {
        "id": "j-XGhNtFKXaj"
      }
    },
    {
      "cell_type": "markdown",
      "source": [
        "## Motivação\n",
        "\n",
        "Escreva um código que calcule a média final de 5 alunos. O cálculo da média é feito pela média aritmética de duas provas (p1 e p2) que os alunos fizeram, segue a nota dos alunos:\n",
        "\n",
        "\n",
        "1.   Aluno 1 - p1: 6.1 e p2: 3.3\n",
        "2.   Aluno 2 - p1: 5.5 e p2: 9.1\n",
        "3.   Aluno 3 - p1: 7.0 e p2: 2.4\n",
        "4.   Aluno 4 - p1: 9.5 e p2: 7.7\n",
        "5.   Aluno 5 - p1: 8.4 e p2: 1.1"
      ],
      "metadata": {
        "id": "-BBkFm85pr25"
      }
    },
    {
      "cell_type": "code",
      "execution_count": 1,
      "metadata": {
        "id": "G-aPrjj6KVvL",
        "colab": {
          "base_uri": "https://localhost:8080/"
        },
        "outputId": "a3c04394-e84f-435d-842e-070bebe806f3"
      },
      "outputs": [
        {
          "output_type": "stream",
          "name": "stdout",
          "text": [
            "Aluno 1 teve a média  4.699999999999999\n"
          ]
        }
      ],
      "source": [
        "p1 = 6.1\n",
        "p2 = 3.3\n",
        "\n",
        "media = (p1+p2)/2\n",
        "print(\"Aluno 1 teve a média \", media)"
      ]
    },
    {
      "cell_type": "code",
      "source": [
        "def calculaMedia(p1, p2):\n",
        "  return (p1+p2)/2\n",
        "\n",
        "aluno1 = calculaMedia(6.0, 3.3)\n",
        "print(aluno1)\n",
        "aluno2 = calculaMedia(5.5, 9.1)\n",
        "print(aluno2)\n",
        "aluno3 = calculaMedia(7.0, 2.4)\n",
        "print(aluno3)\n",
        "aluno4 = calculaMedia(9.5, 7.7)\n",
        "print(aluno4)\n",
        "aluno5 = calculaMedia(8.4, 1.1)\n",
        "print(aluno5)"
      ],
      "metadata": {
        "colab": {
          "base_uri": "https://localhost:8080/"
        },
        "id": "1-N0jMxRruYw",
        "outputId": "b2dddac3-1dda-41b0-ee56-c2031d9ab70f"
      },
      "execution_count": 3,
      "outputs": [
        {
          "output_type": "stream",
          "name": "stdout",
          "text": [
            "4.65\n",
            "7.3\n",
            "4.7\n",
            "8.6\n",
            "4.75\n"
          ]
        }
      ]
    },
    {
      "cell_type": "code",
      "source": [
        "def definirFun():\n",
        "  print(\"Isso é uma função\")\n",
        "\n",
        "definirFun()"
      ],
      "metadata": {
        "colab": {
          "base_uri": "https://localhost:8080/"
        },
        "id": "8Tpx_9DWu3A0",
        "outputId": "eb7a4618-8aae-4972-ab80-f29e556ad606"
      },
      "execution_count": 4,
      "outputs": [
        {
          "output_type": "stream",
          "name": "stdout",
          "text": [
            "Isso é uma função\n"
          ]
        }
      ]
    }
  ]
}