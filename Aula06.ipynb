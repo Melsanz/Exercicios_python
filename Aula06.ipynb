{
  "nbformat": 4,
  "nbformat_minor": 0,
  "metadata": {
    "colab": {
      "provenance": [],
      "include_colab_link": true
    },
    "kernelspec": {
      "name": "python3",
      "display_name": "Python 3"
    },
    "language_info": {
      "name": "python"
    }
  },
  "cells": [
    {
      "cell_type": "markdown",
      "metadata": {
        "id": "view-in-github",
        "colab_type": "text"
      },
      "source": [
        "<a href=\"https://colab.research.google.com/github/Melsanz/Exercicios_python/blob/mestre/Aula06.ipynb\" target=\"_parent\"><img src=\"https://colab.research.google.com/assets/colab-badge.svg\" alt=\"Open In Colab\"/></a>"
      ]
    },
    {
      "cell_type": "markdown",
      "source": [
        "#Aula 06 - `input()`"
      ],
      "metadata": {
        "id": "7oMI9OEiB4B-"
      }
    },
    {
      "cell_type": "markdown",
      "source": [
        "## Pedindo a entrada"
      ],
      "metadata": {
        "id": "LQIjatMQHLgF"
      }
    },
    {
      "cell_type": "code",
      "source": [
        "entrada = input(\"Digite seu nome\")\n",
        "print(entrada)"
      ],
      "metadata": {
        "colab": {
          "base_uri": "https://localhost:8080/"
        },
        "id": "USSZgpnRVhjB",
        "outputId": "17d6902c-4969-4462-de30-96bcdae9cbe1"
      },
      "execution_count": 10,
      "outputs": [
        {
          "output_type": "stream",
          "name": "stdout",
          "text": [
            "Digite seu nome Melissa\n",
            " Melissa\n"
          ]
        }
      ]
    },
    {
      "cell_type": "code",
      "source": [
        "num = int(input(\"Entre com um número \"))\n",
        "resultado = 5 + num\n",
        "print(resultado)"
      ],
      "metadata": {
        "colab": {
          "base_uri": "https://localhost:8080/"
        },
        "id": "2eE-aBfDIptc",
        "outputId": "be4818d8-364b-484d-ab80-70677b488bc9"
      },
      "execution_count": 9,
      "outputs": [
        {
          "output_type": "stream",
          "name": "stdout",
          "text": [
            "Entre com um número 5\n",
            "10\n"
          ]
        }
      ]
    },
    {
      "cell_type": "markdown",
      "source": [
        "## IMC"
      ],
      "metadata": {
        "id": "Nmw_TwECJUkV"
      }
    },
    {
      "cell_type": "code",
      "source": [
        "peso = float(input(\"Entre com o seu peso \"))\n",
        "altura = float(input(\"Entre com a sua altura \"))\n",
        "\n",
        "imc = peso / (altura * altura)\n",
        "print(imc)"
      ],
      "metadata": {
        "colab": {
          "base_uri": "https://localhost:8080/"
        },
        "id": "cwpcmhYBJVaM",
        "outputId": "47395444-7bdb-4e98-eef2-bf48048f8995"
      },
      "execution_count": 11,
      "outputs": [
        {
          "output_type": "stream",
          "name": "stdout",
          "text": [
            "Entre com o seu peso  70\n",
            "Entre com a sua altura 1.63\n",
            "26.346494034400994\n"
          ]
        }
      ]
    }
  ]
}