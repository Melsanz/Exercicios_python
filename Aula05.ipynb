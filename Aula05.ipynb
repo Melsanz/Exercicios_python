{
  "nbformat": 4,
  "nbformat_minor": 0,
  "metadata": {
    "colab": {
      "provenance": [],
      "include_colab_link": true
    },
    "kernelspec": {
      "name": "python3",
      "display_name": "Python 3"
    },
    "language_info": {
      "name": "python"
    }
  },
  "cells": [
    {
      "cell_type": "markdown",
      "metadata": {
        "id": "view-in-github",
        "colab_type": "text"
      },
      "source": [
        "<a href=\"https://colab.research.google.com/github/Melsanz/Exercicios_python/blob/mestre/Aula05.ipynb\" target=\"_parent\"><img src=\"https://colab.research.google.com/assets/colab-badge.svg\" alt=\"Open In Colab\"/></a>"
      ]
    },
    {
      "cell_type": "markdown",
      "source": [
        "## Tamanho de uma string"
      ],
      "metadata": {
        "id": "WfK1dU_T2FY9"
      }
    },
    {
      "cell_type": "markdown",
      "source": [
        "#Manipular uma String"
      ],
      "metadata": {
        "id": "McWjg_qVSX33"
      }
    },
    {
      "cell_type": "code",
      "execution_count": 12,
      "metadata": {
        "colab": {
          "base_uri": "https://localhost:8080/"
        },
        "id": "SS20Q46pwMqO",
        "outputId": "516e6852-9c81-451d-9194-39882db15fcf"
      },
      "outputs": [
        {
          "output_type": "stream",
          "name": "stdout",
          "text": [
            "11\n"
          ]
        }
      ],
      "source": [
        "frase = \"sou Melissa\"\n",
        "tam = len(frase)\n",
        "print(tam)"
      ]
    },
    {
      "cell_type": "markdown",
      "source": [
        "## Index"
      ],
      "metadata": {
        "id": "Sj9jQLni3tOo"
      }
    },
    {
      "cell_type": "code",
      "source": [
        "frase = \"Sou Melissa\"\n",
        "primeira = frase[0]\n",
        "print(primeira)"
      ],
      "metadata": {
        "colab": {
          "base_uri": "https://localhost:8080/"
        },
        "id": "nK7MMcwc3yDj",
        "outputId": "f904b575-9fae-4003-9501-2ffba820b614"
      },
      "execution_count": 14,
      "outputs": [
        {
          "output_type": "stream",
          "name": "stdout",
          "text": [
            "S\n"
          ]
        }
      ]
    },
    {
      "cell_type": "code",
      "source": [
        "frase = \"sou Meliss\"\n",
        "terciero = frase[4]\n",
        "print(terciero)"
      ],
      "metadata": {
        "colab": {
          "base_uri": "https://localhost:8080/"
        },
        "id": "6JdBVblN4RsT",
        "outputId": "18a7be76-1f2a-4d2c-852a-4e792f49d8b4"
      },
      "execution_count": 16,
      "outputs": [
        {
          "output_type": "stream",
          "name": "stdout",
          "text": [
            "M\n"
          ]
        }
      ]
    },
    {
      "cell_type": "code",
      "source": [
        "frase = \"sou Melissa\"\n",
        "ultima = frase[10]\n",
        "print(ultima)"
      ],
      "metadata": {
        "colab": {
          "base_uri": "https://localhost:8080/"
        },
        "id": "dI5xh8RL4Vrj",
        "outputId": "e9d13e2d-1256-44d1-fc29-6be8419da44a"
      },
      "execution_count": 20,
      "outputs": [
        {
          "output_type": "stream",
          "name": "stdout",
          "text": [
            "a\n"
          ]
        }
      ]
    },
    {
      "cell_type": "code",
      "source": [
        "frase = \"Sou Melissa\"\n",
        "index_ultimo = len(frase) - 1\n",
        "ultimo = frase[index_ultimo]\n",
        "print(ultimo)"
      ],
      "metadata": {
        "colab": {
          "base_uri": "https://localhost:8080/"
        },
        "id": "IhIafYoL40BW",
        "outputId": "952d0587-1884-4bba-af3c-b3d543ddfc38"
      },
      "execution_count": 21,
      "outputs": [
        {
          "output_type": "stream",
          "name": "stdout",
          "text": [
            "a\n"
          ]
        }
      ]
    },
    {
      "cell_type": "code",
      "source": [
        "frase = \"Sou Melissa\"\n",
        "ultima = frase[-3]\n",
        "print(ultima)"
      ],
      "metadata": {
        "colab": {
          "base_uri": "https://localhost:8080/"
        },
        "id": "A7P6EfId5iot",
        "outputId": "606460a7-e7a4-4741-be5c-44a89584cd3b"
      },
      "execution_count": 23,
      "outputs": [
        {
          "output_type": "stream",
          "name": "stdout",
          "text": [
            "s\n"
          ]
        }
      ]
    },
    {
      "cell_type": "markdown",
      "source": [
        "## Slicing"
      ],
      "metadata": {
        "id": "8uDjcUHv6qxQ"
      }
    },
    {
      "cell_type": "code",
      "source": [
        "frase = \"Sou Melissa\"\n",
        "sub = frase[0:5]\n",
        "print(sub)"
      ],
      "metadata": {
        "colab": {
          "base_uri": "https://localhost:8080/"
        },
        "id": "c9JG4pje7V2b",
        "outputId": "2e3413b4-a422-47e6-9487-0c93863a4925"
      },
      "execution_count": 25,
      "outputs": [
        {
          "output_type": "stream",
          "name": "stdout",
          "text": [
            "Sou M\n"
          ]
        }
      ]
    },
    {
      "cell_type": "code",
      "source": [
        "frase = \"Sou Melissa\"\n",
        "sub = frase[0:8]\n",
        "print(sub)"
      ],
      "metadata": {
        "colab": {
          "base_uri": "https://localhost:8080/"
        },
        "id": "jzOHZTJK7Zf5",
        "outputId": "f3e369a7-4fd9-47fb-9796-f18cb97a7cb0"
      },
      "execution_count": 26,
      "outputs": [
        {
          "output_type": "stream",
          "name": "stdout",
          "text": [
            "Sou Meli\n"
          ]
        }
      ]
    },
    {
      "cell_type": "code",
      "source": [
        "frase = \"Sou Melissa\"\n",
        "sub = frase[4:7]\n",
        "print(sub)"
      ],
      "metadata": {
        "colab": {
          "base_uri": "https://localhost:8080/"
        },
        "id": "5Ks23s-W6zuv",
        "outputId": "aebc4a60-3920-41bd-89f0-25ee85596305"
      },
      "execution_count": 27,
      "outputs": [
        {
          "output_type": "stream",
          "name": "stdout",
          "text": [
            "Mel\n"
          ]
        }
      ]
    },
    {
      "cell_type": "markdown",
      "source": [
        "## Concatenação"
      ],
      "metadata": {
        "id": "S9drYGZ49R1p"
      }
    },
    {
      "cell_type": "code",
      "source": [
        "string1 = \"Oi\"\n",
        "string2 = \"Melissa\"\n",
        "resultado = string1 + string2\n",
        "print(resultado)"
      ],
      "metadata": {
        "colab": {
          "base_uri": "https://localhost:8080/"
        },
        "id": "9qoHp8Js9Tnj",
        "outputId": "04280844-e5e8-4dda-fbe6-62509771381a"
      },
      "execution_count": 28,
      "outputs": [
        {
          "output_type": "stream",
          "name": "stdout",
          "text": [
            "OiMelissa\n"
          ]
        }
      ]
    },
    {
      "cell_type": "code",
      "source": [
        "string1 = \"Oi\"\n",
        "string2 = \"Melissa\"\n",
        "resultado = string1 + ' ' + string2\n",
        "print(resultado)"
      ],
      "metadata": {
        "colab": {
          "base_uri": "https://localhost:8080/"
        },
        "id": "7Xpko00z9l2x",
        "outputId": "f5ba206c-de2f-4117-c896-2934e90778be"
      },
      "execution_count": 29,
      "outputs": [
        {
          "output_type": "stream",
          "name": "stdout",
          "text": [
            "Oi Melissa\n"
          ]
        }
      ]
    },
    {
      "cell_type": "markdown",
      "source": [
        "## Repetir"
      ],
      "metadata": {
        "id": "-rcjeQPM-Vw0"
      }
    },
    {
      "cell_type": "code",
      "source": [
        "string1 = \"oi\"\n",
        "resultado = string1*2\n",
        "print(resultado)"
      ],
      "metadata": {
        "colab": {
          "base_uri": "https://localhost:8080/"
        },
        "id": "LomMClj4-W5c",
        "outputId": "65667de1-b7fe-44ee-faa6-e10f3b16fdd1"
      },
      "execution_count": 30,
      "outputs": [
        {
          "output_type": "stream",
          "name": "stdout",
          "text": [
            "oioi\n"
          ]
        }
      ]
    },
    {
      "cell_type": "markdown",
      "source": [
        "## Achar elemetnos `find()`\n"
      ],
      "metadata": {
        "id": "BMp_mMwu_ARK"
      }
    },
    {
      "cell_type": "code",
      "source": [
        "frase = \"Sou Melissa\"\n",
        "pos = frase.find(\"o\")\n",
        "print(pos)"
      ],
      "metadata": {
        "colab": {
          "base_uri": "https://localhost:8080/"
        },
        "id": "4B8NnqkO_CuO",
        "outputId": "d836efe4-508d-4681-b24f-4e421ab0c405"
      },
      "execution_count": 36,
      "outputs": [
        {
          "output_type": "stream",
          "name": "stdout",
          "text": [
            "1\n"
          ]
        }
      ]
    },
    {
      "cell_type": "markdown",
      "source": [
        "## Transformar em string"
      ],
      "metadata": {
        "id": "0Amv0PGhF6Qx"
      }
    },
    {
      "cell_type": "code",
      "source": [
        "num_int = 10\n",
        "print(num_int)\n",
        "num_str = str(num_int)\n",
        "print(num_str)"
      ],
      "metadata": {
        "colab": {
          "base_uri": "https://localhost:8080/"
        },
        "id": "JawU8YLUF9CL",
        "outputId": "bc8a406d-c853-4de8-be1c-5021b905f30d"
      },
      "execution_count": 37,
      "outputs": [
        {
          "output_type": "stream",
          "name": "stdout",
          "text": [
            "10\n",
            "10\n"
          ]
        }
      ]
    },
    {
      "cell_type": "code",
      "source": [
        "num = 10\n",
        "frase = \"o número é \" + str(num) # transformo o número em string para depois juntar com a frase\n",
        "print(frase)"
      ],
      "metadata": {
        "colab": {
          "base_uri": "https://localhost:8080/"
        },
        "id": "csS0oMCBGOav",
        "outputId": "83dfba5f-2302-415b-bf39-88c5a7d7123b"
      },
      "execution_count": 38,
      "outputs": [
        {
          "output_type": "stream",
          "name": "stdout",
          "text": [
            "o número é 10\n"
          ]
        }
      ]
    }
  ]
}