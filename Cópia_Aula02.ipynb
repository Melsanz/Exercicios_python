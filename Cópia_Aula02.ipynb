{
  "nbformat": 4,
  "nbformat_minor": 0,
  "metadata": {
    "colab": {
      "provenance": [],
      "include_colab_link": true
    },
    "kernelspec": {
      "name": "python3",
      "display_name": "Python 3"
    },
    "language_info": {
      "name": "python"
    }
  },
  "cells": [
    {
      "cell_type": "markdown",
      "metadata": {
        "id": "view-in-github",
        "colab_type": "text"
      },
      "source": [
        "<a href=\"https://colab.research.google.com/github/Melsanz/Exercicios_python/blob/mestre/C%C3%B3pia_Aula02.ipynb\" target=\"_parent\"><img src=\"https://colab.research.google.com/assets/colab-badge.svg\" alt=\"Open In Colab\"/></a>"
      ]
    },
    {
      "cell_type": "markdown",
      "source": [
        "# Aula 02 - Operações Matemáticas"
      ],
      "metadata": {
        "id": "FWurC_PBrhLR"
      }
    },
    {
      "cell_type": "markdown",
      "source": [
        "## Soma"
      ],
      "metadata": {
        "id": "jpk7ytp4ths5"
      }
    },
    {
      "cell_type": "code",
      "execution_count": null,
      "metadata": {
        "colab": {
          "base_uri": "https://localhost:8080/"
        },
        "id": "JckRPf8DrSKB",
        "outputId": "7ecc7161-5048-4fac-991f-8d218f9d9ff5"
      },
      "outputs": [
        {
          "output_type": "execute_result",
          "data": {
            "text/plain": [
              "20"
            ]
          },
          "metadata": {},
          "execution_count": 1
        }
      ],
      "source": [
        "10+10"
      ]
    },
    {
      "cell_type": "markdown",
      "source": [
        "## Subtração"
      ],
      "metadata": {
        "id": "1Q3Yun2Wtp8_"
      }
    },
    {
      "cell_type": "code",
      "source": [
        "30-10"
      ],
      "metadata": {
        "colab": {
          "base_uri": "https://localhost:8080/"
        },
        "id": "pS_dylnStryD",
        "outputId": "56c453f5-b82c-4ed6-b5e5-5660052a7f81"
      },
      "execution_count": null,
      "outputs": [
        {
          "output_type": "execute_result",
          "data": {
            "text/plain": [
              "20"
            ]
          },
          "metadata": {},
          "execution_count": 2
        }
      ]
    },
    {
      "cell_type": "markdown",
      "source": [
        "## Multiplicação"
      ],
      "metadata": {
        "id": "7ZiugeIAtt-A"
      }
    },
    {
      "cell_type": "code",
      "source": [
        "2*10"
      ],
      "metadata": {
        "colab": {
          "base_uri": "https://localhost:8080/"
        },
        "id": "QzsGl_eqtv7u",
        "outputId": "a9d8464a-7755-477c-a27f-2563b4ff0994"
      },
      "execution_count": null,
      "outputs": [
        {
          "output_type": "execute_result",
          "data": {
            "text/plain": [
              "20"
            ]
          },
          "metadata": {},
          "execution_count": 3
        }
      ]
    },
    {
      "cell_type": "markdown",
      "source": [
        "## Divisão"
      ],
      "metadata": {
        "id": "7iCpOXnDt0k8"
      }
    },
    {
      "cell_type": "code",
      "source": [
        "40/2 "
      ],
      "metadata": {
        "colab": {
          "base_uri": "https://localhost:8080/"
        },
        "id": "eHV3sDj1t7TG",
        "outputId": "ebb95faa-6b5b-4911-8ab2-30180f3d5190"
      },
      "execution_count": null,
      "outputs": [
        {
          "output_type": "execute_result",
          "data": {
            "text/plain": [
              "20.0"
            ]
          },
          "metadata": {},
          "execution_count": 4
        }
      ]
    },
    {
      "cell_type": "markdown",
      "source": [
        "## Potência"
      ],
      "metadata": {
        "id": "YZ9DQtCWuBeU"
      }
    },
    {
      "cell_type": "code",
      "source": [
        "20**1 # 20 elevado a 1"
      ],
      "metadata": {
        "colab": {
          "base_uri": "https://localhost:8080/"
        },
        "id": "2-QaXK3iuDaN",
        "outputId": "78e4fdf2-bb22-404d-e1ee-fd02c1a06436"
      },
      "execution_count": null,
      "outputs": [
        {
          "output_type": "execute_result",
          "data": {
            "text/plain": [
              "20"
            ]
          },
          "metadata": {},
          "execution_count": 25
        }
      ]
    },
    {
      "cell_type": "markdown",
      "source": [
        "### Raiz"
      ],
      "metadata": {
        "id": "FXO2wfmhuJYv"
      }
    },
    {
      "cell_type": "code",
      "source": [
        "4**(1/2) # raiz quadrada de 4"
      ],
      "metadata": {
        "colab": {
          "base_uri": "https://localhost:8080/"
        },
        "id": "V8SFqGi0uLHV",
        "outputId": "849adf2b-ca55-445a-8479-7413193368ba"
      },
      "execution_count": null,
      "outputs": [
        {
          "output_type": "execute_result",
          "data": {
            "text/plain": [
              "2.0"
            ]
          },
          "metadata": {},
          "execution_count": 35
        }
      ]
    },
    {
      "cell_type": "markdown",
      "source": [
        "## Resto da divisão"
      ],
      "metadata": {
        "id": "LVA-6FJqu4Cf"
      }
    },
    {
      "cell_type": "code",
      "source": [
        "20 % 2"
      ],
      "metadata": {
        "colab": {
          "base_uri": "https://localhost:8080/"
        },
        "id": "AUCvOYx2u6v0",
        "outputId": "67d8451f-871f-44b1-8f67-daab0f243c19"
      },
      "execution_count": null,
      "outputs": [
        {
          "output_type": "execute_result",
          "data": {
            "text/plain": [
              "0"
            ]
          },
          "metadata": {},
          "execution_count": 43
        }
      ]
    },
    {
      "cell_type": "code",
      "source": [
        "5 % 3 # 5 mod 3"
      ],
      "metadata": {
        "colab": {
          "base_uri": "https://localhost:8080/"
        },
        "id": "8IaxBvxWu9Vd",
        "outputId": "5eac81e3-8049-4704-8120-c3853240b69e"
      },
      "execution_count": null,
      "outputs": [
        {
          "output_type": "execute_result",
          "data": {
            "text/plain": [
              "2"
            ]
          },
          "metadata": {},
          "execution_count": 51
        }
      ]
    },
    {
      "cell_type": "code",
      "source": [
        "150 % 45"
      ],
      "metadata": {
        "colab": {
          "base_uri": "https://localhost:8080/"
        },
        "id": "Fk4FpyRxvAIu",
        "outputId": "8f1ebf2f-cdf2-4f0d-c14a-c9de47a3deb0"
      },
      "execution_count": null,
      "outputs": [
        {
          "output_type": "execute_result",
          "data": {
            "text/plain": [
              "15"
            ]
          },
          "metadata": {},
          "execution_count": 60
        }
      ]
    },
    {
      "cell_type": "markdown",
      "source": [
        "## Exercicio"
      ],
      "metadata": {
        "id": "fnnwh8kEvHVo"
      }
    },
    {
      "cell_type": "markdown",
      "source": [
        "### Cálculo do IMC\n",
        "\n",
        "Peso: 70kg\n",
        "Altura: 1.63"
      ],
      "metadata": {
        "id": "3Kx_anxuwryA"
      }
    },
    {
      "cell_type": "code",
      "source": [
        "70 / (1.63 * 1.63)"
      ],
      "metadata": {
        "colab": {
          "base_uri": "https://localhost:8080/"
        },
        "id": "Ld9U_M1zwyNu",
        "outputId": "ac86472f-2b2a-4ae6-fd05-9738f45d6324"
      },
      "execution_count": null,
      "outputs": [
        {
          "output_type": "execute_result",
          "data": {
            "text/plain": [
              "26.346494034400994"
            ]
          },
          "metadata": {},
          "execution_count": 61
        }
      ]
    },
    {
      "cell_type": "code",
      "source": [
        "70 / 1.63 * 1.63"
      ],
      "metadata": {
        "colab": {
          "base_uri": "https://localhost:8080/"
        },
        "id": "p9rSq_7DxY7F",
        "outputId": "3bb3da45-4af5-4d9e-e70c-6d87b525fcc6"
      },
      "execution_count": null,
      "outputs": [
        {
          "output_type": "execute_result",
          "data": {
            "text/plain": [
              "70.0"
            ]
          },
          "metadata": {},
          "execution_count": 62
        }
      ]
    }
  ]
}