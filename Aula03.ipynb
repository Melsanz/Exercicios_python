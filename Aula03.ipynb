{
  "nbformat": 4,
  "nbformat_minor": 0,
  "metadata": {
    "colab": {
      "provenance": [],
      "include_colab_link": true
    },
    "kernelspec": {
      "name": "python3",
      "display_name": "Python 3"
    },
    "language_info": {
      "name": "python"
    }
  },
  "cells": [
    {
      "cell_type": "markdown",
      "metadata": {
        "id": "view-in-github",
        "colab_type": "text"
      },
      "source": [
        "<a href=\"https://colab.research.google.com/github/Melsanz/Exercicios_python/blob/mestre/Aula03.ipynb\" target=\"_parent\"><img src=\"https://colab.research.google.com/assets/colab-badge.svg\" alt=\"Open In Colab\"/></a>"
      ]
    },
    {
      "cell_type": "markdown",
      "source": [
        "# Variáveis"
      ],
      "metadata": {
        "id": "PaaI_vySUqg4"
      }
    },
    {
      "cell_type": "markdown",
      "source": [
        "## IMC com variáveis "
      ],
      "metadata": {
        "id": "HUW3DOZ5UspC"
      }
    },
    {
      "cell_type": "code",
      "execution_count": 1,
      "metadata": {
        "id": "ozDWAJTP3UsB",
        "colab": {
          "base_uri": "https://localhost:8080/"
        },
        "outputId": "34b20c38-50c0-4add-b048-ec318ffddcf1"
      },
      "outputs": [
        {
          "output_type": "execute_result",
          "data": {
            "text/plain": [
              "26.346494034400994"
            ]
          },
          "metadata": {},
          "execution_count": 1
        }
      ],
      "source": [
        "peso = 70\n",
        "altura = 1.63\n",
        "\n",
        "peso / (altura * altura)"
      ]
    },
    {
      "cell_type": "markdown",
      "source": [
        "## `print()`"
      ],
      "metadata": {
        "id": "miOXOqLIV8G_"
      }
    },
    {
      "cell_type": "code",
      "source": [
        "print(\"Hello World\")"
      ],
      "metadata": {
        "colab": {
          "base_uri": "https://localhost:8080/"
        },
        "id": "cJS9qkL5V--h",
        "outputId": "7fbc3655-5e64-470d-bb5c-5de36d597ab1"
      },
      "execution_count": null,
      "outputs": [
        {
          "output_type": "stream",
          "name": "stdout",
          "text": [
            "Hello World\n"
          ]
        }
      ]
    },
    {
      "cell_type": "code",
      "source": [
        "print(\"Olá pessoal!\")"
      ],
      "metadata": {
        "colab": {
          "base_uri": "https://localhost:8080/"
        },
        "id": "TlmSuVxfWFxD",
        "outputId": "0012c368-ee7b-4b2d-ffae-d5e77b422cd9"
      },
      "execution_count": null,
      "outputs": [
        {
          "output_type": "stream",
          "name": "stdout",
          "text": [
            "Olá pessoal!\n"
          ]
        }
      ]
    },
    {
      "cell_type": "code",
      "source": [
        "peso = 70\n",
        "print(peso)"
      ],
      "metadata": {
        "colab": {
          "base_uri": "https://localhost:8080/"
        },
        "id": "GiUbHGrEWI8w",
        "outputId": "1e32e8d4-5a41-4f1a-cd38-bb503d0985be"
      },
      "execution_count": 2,
      "outputs": [
        {
          "output_type": "stream",
          "name": "stdout",
          "text": [
            "70\n"
          ]
        }
      ]
    },
    {
      "cell_type": "code",
      "source": [
        "peso = 70\n",
        "altura = 1.63\n",
        "\n",
        "imc = peso / (altura * altura)\n",
        "print(imc)"
      ],
      "metadata": {
        "colab": {
          "base_uri": "https://localhost:8080/"
        },
        "id": "WQqSMCfEXEnp",
        "outputId": "266d6eed-8e7b-4a0d-cace-6b452355b216"
      },
      "execution_count": 3,
      "outputs": [
        {
          "output_type": "stream",
          "name": "stdout",
          "text": [
            "26.346494034400994\n"
          ]
        }
      ]
    },
    {
      "cell_type": "code",
      "source": [
        "peso = 70\n",
        "altura = 1.63\n",
        "\n",
        "imc = peso / (altura * altura)\n",
        "print(\"Seu IMC é \", imc)"
      ],
      "metadata": {
        "colab": {
          "base_uri": "https://localhost:8080/"
        },
        "id": "Kf1JjPuwXdvn",
        "outputId": "962b6c5e-17bf-456f-8b16-24d0288a506c"
      },
      "execution_count": 5,
      "outputs": [
        {
          "output_type": "stream",
          "name": "stdout",
          "text": [
            "Seu IMC é  26.346494034400994\n"
          ]
        }
      ]
    },
    {
      "cell_type": "markdown",
      "source": [
        "## Mais de variáveis"
      ],
      "metadata": {
        "id": "zmZIMQBbYLrx"
      }
    },
    {
      "cell_type": "code",
      "source": [
        "frase = \"Sou uma frase\"\n",
        "print(frase)"
      ],
      "metadata": {
        "colab": {
          "base_uri": "https://localhost:8080/"
        },
        "id": "UFiMB-TjYNNt",
        "outputId": "b153f6a3-fa89-405f-fa9b-917826e82e81"
      },
      "execution_count": 6,
      "outputs": [
        {
          "output_type": "stream",
          "name": "stdout",
          "text": [
            "Sou uma frase\n"
          ]
        }
      ]
    },
    {
      "cell_type": "code",
      "source": [
        "nome = \"Melissa\"\n",
        "peso = 70\n",
        "altura = 1.63 \n",
        "\n",
        "imc = peso / (altura * altura)\n",
        "print(\"Melissa seu IMC é\" '', imc)"
      ],
      "metadata": {
        "colab": {
          "base_uri": "https://localhost:8080/"
        },
        "id": "DJ7GLshhYdkq",
        "outputId": "19bef715-5560-43bb-e843-d4e495becba5"
      },
      "execution_count": 7,
      "outputs": [
        {
          "output_type": "stream",
          "name": "stdout",
          "text": [
            "Melissa seu IMC é 26.346494034400994\n"
          ]
        }
      ]
    }
  ]
}