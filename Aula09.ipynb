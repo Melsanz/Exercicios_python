{
  "nbformat": 4,
  "nbformat_minor": 0,
  "metadata": {
    "colab": {
      "provenance": [],
      "include_colab_link": true
    },
    "kernelspec": {
      "name": "python3",
      "display_name": "Python 3"
    },
    "language_info": {
      "name": "python"
    }
  },
  "cells": [
    {
      "cell_type": "markdown",
      "metadata": {
        "id": "view-in-github",
        "colab_type": "text"
      },
      "source": [
        "<a href=\"https://colab.research.google.com/github/Melsanz/Exercicios_python/blob/mestre/Aula09.ipynb\" target=\"_parent\"><img src=\"https://colab.research.google.com/assets/colab-badge.svg\" alt=\"Open In Colab\"/></a>"
      ]
    },
    {
      "cell_type": "markdown",
      "source": [
        "# Função III"
      ],
      "metadata": {
        "id": "kY9UwX_Yr35H"
      }
    },
    {
      "cell_type": "markdown",
      "source": [
        "## Resolução exercício"
      ],
      "metadata": {
        "id": "qO3rGSEmr6Rs"
      }
    },
    {
      "cell_type": "markdown",
      "source": [
        "Faça um programa em Python que peça ao usuário três números inteiros. Seu programa deverá passar para uma função os três números (na ordem que foram inseridos pelo usuário) e, então, a função deve imprimir o resultado da soma entre o segundo número e o resultado da multiplicação entre o primeiro e último número inseridos. Use como entrada os valores (nessa ordem): 177, 351 e 95."
      ],
      "metadata": {
        "id": "a_7aJMpRkjvy"
      }
    },
    {
      "cell_type": "code",
      "source": [
        "def numeros_int(a, b, c):\n",
        "    formula = b + (a * c)\n",
        "    return formula\n",
        "\n",
        "codigos =  numeros_int(177, 351, 95)\n",
        "print(codigos)\n"
      ],
      "metadata": {
        "colab": {
          "base_uri": "https://localhost:8080/"
        },
        "id": "FPQ_RK4UkrVH",
        "outputId": "cbac9dbd-fe55-46a8-8c03-7a130e6b67a1"
      },
      "execution_count": null,
      "outputs": [
        {
          "output_type": "stream",
          "name": "stdout",
          "text": [
            "17166\n"
          ]
        }
      ]
    },
    {
      "cell_type": "markdown",
      "source": [
        "De acordo com a fórmula da equação de segundo grau abaixo. Faça uma função que calcule e imprima os resultados de uma equação de segundo grau. Para que seu código fique organizado, faça uma função extra que calcule o Delta () em seprado. Utilize os seguintes valores como entrada: a = 88, b = 4, c = 16"
      ],
      "metadata": {
        "id": "6X8deBlHkrxN"
      }
    },
    {
      "cell_type": "code",
      "source": [
        "def valor_delta(a, b, c):\n",
        "  delta = b**2 - 4 * a * c\n",
        "  return delta\n",
        "\n",
        "resultado_delta = valor_delta(88, 4, 16) \n",
        " \n",
        "print(resultado_delta)"
      ],
      "metadata": {
        "colab": {
          "base_uri": "https://localhost:8080/"
        },
        "id": "6r3WW7vNSN-g",
        "outputId": "3a54c778-cfa8-4b47-f07c-ba4d9a8c887b"
      },
      "execution_count": null,
      "outputs": [
        {
          "output_type": "stream",
          "name": "stdout",
          "text": [
            "-5616\n"
          ]
        }
      ]
    },
    {
      "cell_type": "code",
      "source": [
        "def valor_delta(a, b, c):\n",
        "  delta = b**2 - 4 * a * c\n",
        "  return delta\n",
        "\n",
        "resultado_delta = valor_delta(88, 4, 16) \n",
        " \n",
        "print(resultado_delta)\n",
        "\n",
        "def ecuacion_positiva(a, b, c):\n",
        "  formula = (-b + c) / 2*a\n",
        "  return formula\n",
        "\n",
        "resultado_positivo = ecuacion_positiva(88, 4, 5616)\n",
        "\n",
        "print(resultado_positivo)\n",
        "\n",
        "def ecuacion_negativa(a, b, c):\n",
        "  formula = (-b - c) / 2*a\n",
        "  return formula\n",
        "\n",
        "resultado_negativo = ecuacion_negativa(88, 4, 5616)\n",
        "\n",
        "print(resultado_negativo)"
      ],
      "metadata": {
        "colab": {
          "base_uri": "https://localhost:8080/"
        },
        "id": "RhF7rrGyfhN5",
        "outputId": "e97bc1ea-a826-4c39-edf5-f68164b2de05"
      },
      "execution_count": null,
      "outputs": [
        {
          "output_type": "stream",
          "name": "stdout",
          "text": [
            "-5616\n",
            "246928.0\n",
            "-247280.0\n"
          ]
        }
      ]
    }
  ]
}