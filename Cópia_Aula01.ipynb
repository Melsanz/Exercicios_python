{
  "nbformat": 4,
  "nbformat_minor": 0,
  "metadata": {
    "colab": {
      "provenance": [],
      "include_colab_link": true
    },
    "kernelspec": {
      "name": "python3",
      "display_name": "Python 3"
    },
    "language_info": {
      "name": "python"
    }
  },
  "cells": [
    {
      "cell_type": "markdown",
      "metadata": {
        "id": "view-in-github",
        "colab_type": "text"
      },
      "source": [
        "<a href=\"https://colab.research.google.com/github/Melsanz/Exercicios_python/blob/mestre/C%C3%B3pia_Aula01.ipynb\" target=\"_parent\"><img src=\"https://colab.research.google.com/assets/colab-badge.svg\" alt=\"Open In Colab\"/></a>"
      ]
    },
    {
      "cell_type": "markdown",
      "source": [
        "# Aula 01 - Motivação"
      ],
      "metadata": {
        "id": "_GJW1INjnZ4z"
      }
    },
    {
      "cell_type": "markdown",
      "source": [
        "Nosso primeiro código em Python :) "
      ],
      "metadata": {
        "id": "fdx3oQw_nhA4"
      }
    },
    {
      "cell_type": "code",
      "execution_count": null,
      "metadata": {
        "colab": {
          "base_uri": "https://localhost:8080/"
        },
        "id": "ap3ofJ_JnVki",
        "outputId": "0fc1fdfe-7ff2-4dff-f140-2a222ff38488"
      },
      "outputs": [
        {
          "output_type": "stream",
          "name": "stdout",
          "text": [
            "Olá Crianças!\n"
          ]
        }
      ],
      "source": [
        "print(\"Olá Crianças!\")"
      ]
    },
    {
      "cell_type": "markdown",
      "source": [
        "Comentarios\n"
      ],
      "metadata": {
        "id": "GRzLmfUkK1XE"
      }
    },
    {
      "cell_type": "code",
      "source": [
        "print(\"Olá pessoal!\") # o print serve para colocar uma mensagem para o usuário"
      ],
      "metadata": {
        "id": "8DozMOhLpPsN",
        "colab": {
          "base_uri": "https://localhost:8080/"
        },
        "outputId": "8392d8af-9433-41dc-b00f-b73f4ab35d90"
      },
      "execution_count": null,
      "outputs": [
        {
          "output_type": "stream",
          "name": "stdout",
          "text": [
            "Olá pessoal!\n"
          ]
        }
      ]
    }
  ]
}