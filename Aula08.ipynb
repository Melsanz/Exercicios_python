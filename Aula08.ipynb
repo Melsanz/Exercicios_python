{
  "nbformat": 4,
  "nbformat_minor": 0,
  "metadata": {
    "colab": {
      "provenance": [],
      "include_colab_link": true
    },
    "kernelspec": {
      "name": "python3",
      "display_name": "Python 3"
    },
    "language_info": {
      "name": "python"
    }
  },
  "cells": [
    {
      "cell_type": "markdown",
      "metadata": {
        "id": "view-in-github",
        "colab_type": "text"
      },
      "source": [
        "<a href=\"https://colab.research.google.com/github/Melsanz/Exercicios_python/blob/mestre/Aula08.ipynb\" target=\"_parent\"><img src=\"https://colab.research.google.com/assets/colab-badge.svg\" alt=\"Open In Colab\"/></a>"
      ]
    },
    {
      "cell_type": "markdown",
      "source": [
        "# Aula 08 - Função II"
      ],
      "metadata": {
        "id": "XFDhzaqnxVoV"
      }
    },
    {
      "cell_type": "markdown",
      "source": [
        "## Parâmetros"
      ],
      "metadata": {
        "id": "3Xo5vmPbjM95"
      }
    },
    {
      "cell_type": "code",
      "execution_count": 6,
      "metadata": {
        "colab": {
          "base_uri": "https://localhost:8080/"
        },
        "id": "JKE41OmexTw7",
        "outputId": "aa89d0a3-da04-4817-9f07-f19a52f72d6e"
      },
      "outputs": [
        {
          "output_type": "stream",
          "name": "stdout",
          "text": [
            "Entre com o primerio número 10\n",
            "Entre com o segundo número 40\n",
            "50\n"
          ]
        }
      ],
      "source": [
        "def sumatoria(valor1, valor2):\n",
        "  r = valor1 + valor2\n",
        "  return r\n",
        "\n",
        "num1 = int(input(\"Entre com o primerio número \"))\n",
        "num2 = int(input(\"Entre com o segundo número \"))\n",
        "resultado = sumatoria(num1, num2)\n",
        "print(resultado)"
      ]
    }
  ]
}